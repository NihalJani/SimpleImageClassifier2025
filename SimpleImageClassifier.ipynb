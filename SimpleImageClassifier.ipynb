{
  "nbformat": 4,
  "nbformat_minor": 0,
  "metadata": {
    "colab": {
      "provenance": [],
      "collapsed_sections": [
        "LYKzpKObpxPB"
      ],
      "authorship_tag": "ABX9TyMTPO6eWP3q2OlLSgz7NGQZ",
      "include_colab_link": true
    },
    "kernelspec": {
      "name": "python3",
      "display_name": "Python 3"
    },
    "language_info": {
      "name": "python"
    }
  },
  "cells": [
    {
      "cell_type": "markdown",
      "metadata": {
        "id": "view-in-github",
        "colab_type": "text"
      },
      "source": [
        "<a href=\"https://colab.research.google.com/github/NihalJani/SimpleImageClassifier2025/blob/main/SimpleImageClassifier.ipynb\" target=\"_parent\"><img src=\"https://colab.research.google.com/assets/colab-badge.svg\" alt=\"Open In Colab\"/></a>"
      ]
    },
    {
      "cell_type": "markdown",
      "source": [
        "# Data Loading"
      ],
      "metadata": {
        "id": "LYKzpKObpxPB"
      }
    },
    {
      "cell_type": "code",
      "execution_count": 1,
      "metadata": {
        "id": "-gymoxaeeuWp"
      },
      "outputs": [],
      "source": [
        "import tensorflow as tf"
      ]
    },
    {
      "cell_type": "code",
      "source": [
        "# Importing the dataset from keras(CIFAR-10)\n",
        "# Also dividing the import into 4 sets: training image and label, and testing image and label\n",
        "\n",
        "(train_image, train_label),(test_image, test_label) = tf.keras.datasets.cifar10.load_data()"
      ],
      "metadata": {
        "colab": {
          "base_uri": "https://localhost:8080/"
        },
        "id": "ERQsqzhNfpck",
        "outputId": "c810111d-0c32-46b2-f84a-75804c6f6d20"
      },
      "execution_count": 2,
      "outputs": [
        {
          "output_type": "stream",
          "name": "stdout",
          "text": [
            "Downloading data from https://www.cs.toronto.edu/~kriz/cifar-10-python.tar.gz\n",
            "\u001b[1m170498071/170498071\u001b[0m \u001b[32m━━━━━━━━━━━━━━━━━━━━\u001b[0m\u001b[37m\u001b[0m \u001b[1m2s\u001b[0m 0us/step\n"
          ]
        }
      ]
    },
    {
      "cell_type": "code",
      "source": [
        "# Testing if correct import\n",
        "print(\"Train image shape:\", train_image.shape)\n",
        "print(\"Train label shape:\", train_label.shape)\n",
        "print(\"Test image shape:\", test_image.shape)\n",
        "print(\"Test label shape:\", test_label.shape)\n",
        "# Output (50000, 32, 32, 3) means 50000 images, each 32x32 pixels, in 3 color channels(rgb)"
      ],
      "metadata": {
        "colab": {
          "base_uri": "https://localhost:8080/"
        },
        "id": "CcVWyzXEglwq",
        "outputId": "1deeb51b-7f51-49fc-c4e2-11fd399ca3b2"
      },
      "execution_count": 4,
      "outputs": [
        {
          "output_type": "stream",
          "name": "stdout",
          "text": [
            "Train image shape: (50000, 32, 32, 3)\n",
            "Train label shape: (50000, 1)\n",
            "Test image shape: (10000, 32, 32, 3)\n",
            "Test label shape: (10000, 1)\n"
          ]
        }
      ]
    },
    {
      "cell_type": "markdown",
      "source": [
        "# Preprocessing\n",
        "Applying two methods:\n",
        "Normalization:  \n",
        "\n",
        "1.   To ensure the pixel values of each color in the image is on a consistent scale. This prevents issues like explosive gradient.\n",
        "2.   Also helps with faster convergence.\n",
        "3.   This is about preprocessing the input data(the images)\n",
        "\n",
        "One-hot encoding:\n",
        "1.   This is about transforming class labels into suitable format for the model\n",
        "2.   This way the model treats each class as an independent category, otherwise it can assume the class labels have an order(not random)\n",
        "3. This is about preprocessing the output data(the labels)\n",
        "\n",
        "\n",
        "\n",
        "\n",
        "\n"
      ],
      "metadata": {
        "id": "kcFtE5ZujFBk"
      }
    },
    {
      "cell_type": "code",
      "source": [
        "# Converting the images from arrays to floats, then dividing each pixel by 255(pixels range from 0 to 255) to get values between 0 to 1\n",
        "\n",
        "train_images = train_image.astype(\"float32\") / 255.0\n",
        "test_images = test_image.astype(\"float32\") / 255.0"
      ],
      "metadata": {
        "id": "ENKrPcATpvC_"
      },
      "execution_count": 8,
      "outputs": []
    },
    {
      "cell_type": "code",
      "source": [
        "# Converting each label(currently from 0 to 9), into individual label arrays(for example [0,0,0,1,0,0,0,0,0,0] indicates the image is cat)\n",
        "\n",
        "train_label = tf.keras.utils.to_categorical(train_label, 10)\n",
        "test_label = tf.keras.utils.to_categorical(test_label, 10)"
      ],
      "metadata": {
        "id": "KYPdv6Ipq1F8"
      },
      "execution_count": 9,
      "outputs": []
    },
    {
      "cell_type": "markdown",
      "source": [
        "# Data Visualisation"
      ],
      "metadata": {
        "id": "M5OlqAlxr63w"
      }
    },
    {
      "cell_type": "code",
      "source": [],
      "metadata": {
        "id": "wK_TjsKyr-1p"
      },
      "execution_count": null,
      "outputs": []
    }
  ]
}